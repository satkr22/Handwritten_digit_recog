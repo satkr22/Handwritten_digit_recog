{
 "cells": [
  {
   "cell_type": "code",
   "execution_count": 72,
   "metadata": {},
   "outputs": [],
   "source": [
    "import numpy as np"
   ]
  },
  {
   "cell_type": "code",
   "execution_count": 73,
   "metadata": {},
   "outputs": [],
   "source": [
    "import tensorflow as tf\n",
    "from tensorflow.keras import layers, models"
   ]
  },
  {
   "cell_type": "code",
   "execution_count": 74,
   "metadata": {},
   "outputs": [],
   "source": [
    "# loading mnist dataset of labelled handwritten digits and test dataset\n",
    "(x_train, y_train), (x_test, y_test) = tf.keras.datasets.mnist.load_data()"
   ]
  },
  {
   "cell_type": "code",
   "execution_count": 75,
   "metadata": {},
   "outputs": [
    {
     "name": "stdout",
     "output_type": "stream",
     "text": [
      "Training dataset shape: (60000, 28, 28) \n",
      "Training label shape: (60000,)\n",
      "Testing dataset shape: (10000, 28, 28) \n",
      "Testing label shape: (10000,)\n"
     ]
    }
   ],
   "source": [
    "print(f\"Training dataset shape: {x_train.shape} \\nTraining label shape: {y_train.shape}\")\n",
    "print(f\"Testing dataset shape: {x_test.shape} \\nTesting label shape: {y_test.shape}\")"
   ]
  },
  {
   "cell_type": "code",
   "execution_count": 76,
   "metadata": {},
   "outputs": [
    {
     "name": "stdout",
     "output_type": "stream",
     "text": [
      "[  0   0   0   0   0   0   0   0   0   0   0   0   0   0  45 186 253 253\n",
      " 150  27   0   0   0   0   0   0   0   0]\n",
      "28\n",
      "28\n",
      "5\n",
      "\n",
      "\n",
      "60000\n"
     ]
    }
   ],
   "source": [
    "print(f\"{x_train[0][15]}\")\n",
    "print(f\"{len(x_train[0][15])}\")\n",
    "print(f\"{len(x_train[0])}\")\n",
    "print(f\"{y_train[0]}\")\n",
    "print(f\"\\n\\n{x_train.shape[0]}\")"
   ]
  },
  {
   "cell_type": "code",
   "execution_count": 77,
   "metadata": {},
   "outputs": [
    {
     "name": "stdout",
     "output_type": "stream",
     "text": [
      "[  0   0   0   0   0   0   0   0   0   0   0   0   0   0  75 251 240  57\n",
      "   0   0   0   0   0   0   0   0   0   0]\n",
      "28\n",
      "28\n",
      "7\n"
     ]
    }
   ],
   "source": [
    "print(f\"{x_test[0][18]}\")\n",
    "print(f\"{len(x_test[0][15])}\")\n",
    "print(f\"{len(x_test[0])}\")\n",
    "print(f\"{y_test[0]}\")"
   ]
  },
  {
   "cell_type": "code",
   "execution_count": 78,
   "metadata": {},
   "outputs": [],
   "source": [
    "#normalising the pixel values of(x_train and x_test) between 0 and 1 to increase trianing efficiency\n",
    "x_train, x_test = x_train / 255.0, x_test / 255.0\n",
    "# print(f\"{x_train[23]}\")\n",
    "# print(f\"{x_test[23]}\")"
   ]
  },
  {
   "cell_type": "code",
   "execution_count": 79,
   "metadata": {},
   "outputs": [],
   "source": [
    "#Flattening the dataset as 1D vector (28 x 28 = 784 elements)\n",
    "x_train_flatten = x_train.reshape(x_train.shape[0], -1)\n",
    "x_test_flatten = x_test.reshape(x_test.shape[0], -1)"
   ]
  },
  {
   "cell_type": "code",
   "execution_count": 80,
   "metadata": {},
   "outputs": [
    {
     "name": "stdout",
     "output_type": "stream",
     "text": [
      "shape of flattened dataset: (60000, 784), (10000, 784)\n"
     ]
    }
   ],
   "source": [
    "print(f\"shape of flattened dataset: {x_train_flatten.shape}, {x_test_flatten.shape}\")"
   ]
  },
  {
   "cell_type": "code",
   "execution_count": 81,
   "metadata": {},
   "outputs": [],
   "source": [
    "#doing one-hot encoding for the labels(y_train and y_test) for better category defining(in vector form for each labels)\n",
    "num_classes = 10\n",
    "\n",
    "y_train_one_hot = np.eye(num_classes)[y_train]\n",
    "y_test_one_hot = np.eye(num_classes)[y_test]\n"
   ]
  },
  {
   "cell_type": "code",
   "execution_count": 82,
   "metadata": {},
   "outputs": [
    {
     "name": "stdout",
     "output_type": "stream",
     "text": [
      "(60000, 10)   (10000, 10)\n",
      "[0. 0. 0. 0. 0. 1. 0. 0. 0. 0.]   [0. 0. 0. 0. 0. 0. 0. 1. 0. 0.]\n"
     ]
    }
   ],
   "source": [
    "print(f\"{y_train_one_hot.shape}   {y_test_one_hot.shape}\")\n",
    "print(f\"{y_train_one_hot[0]}   {y_test_one_hot[0]}\")"
   ]
  },
  {
   "cell_type": "code",
   "execution_count": 83,
   "metadata": {},
   "outputs": [],
   "source": [
    "# Model designing\n",
    "model = models.Sequential()\n",
    "model.add(layers.InputLayer(input_shape=784)) # Input Layer\n",
    "\n",
    "model.add(layers.Dense(128, activation='relu')) # hidden Layer\n",
    "model.add(layers.Dense(64, activation='relu')) # hidden Layer\n",
    "\n",
    "model.add(layers.Dense(10, activation='softmax')) # Output Layer"
   ]
  },
  {
   "cell_type": "code",
   "execution_count": 84,
   "metadata": {},
   "outputs": [],
   "source": [
    "#compiling the model\n",
    "model.compile(optimizer='adam', loss='categorical_crossentropy', metrics=['accuracy'])"
   ]
  },
  {
   "cell_type": "code",
   "execution_count": 85,
   "metadata": {},
   "outputs": [
    {
     "name": "stdout",
     "output_type": "stream",
     "text": [
      "Model: \"sequential_2\"\n",
      "_________________________________________________________________\n",
      " Layer (type)                Output Shape              Param #   \n",
      "=================================================================\n",
      " dense_3 (Dense)             (None, 128)               100480    \n",
      "                                                                 \n",
      " dense_4 (Dense)             (None, 64)                8256      \n",
      "                                                                 \n",
      " dense_5 (Dense)             (None, 10)                650       \n",
      "                                                                 \n",
      "=================================================================\n",
      "Total params: 109,386\n",
      "Trainable params: 109,386\n",
      "Non-trainable params: 0\n",
      "_________________________________________________________________\n"
     ]
    }
   ],
   "source": [
    "model.summary()"
   ]
  },
  {
   "cell_type": "code",
   "execution_count": null,
   "metadata": {},
   "outputs": [
    {
     "name": "stdout",
     "output_type": "stream",
     "text": [
      "Epoch 1/10\n",
      "375/375 [==============================] - 1s 3ms/step - loss: 0.3722 - accuracy: 0.8941 - val_loss: 0.1772 - val_accuracy: 0.9485\n",
      "Epoch 2/10\n",
      "375/375 [==============================] - 1s 3ms/step - loss: 0.1538 - accuracy: 0.9544 - val_loss: 0.1293 - val_accuracy: 0.9628\n",
      "Epoch 3/10\n",
      "375/375 [==============================] - 1s 3ms/step - loss: 0.1057 - accuracy: 0.9692 - val_loss: 0.1166 - val_accuracy: 0.9643\n",
      "Epoch 4/10\n",
      "375/375 [==============================] - 1s 3ms/step - loss: 0.0811 - accuracy: 0.9754 - val_loss: 0.1004 - val_accuracy: 0.9704\n",
      "Epoch 5/10\n",
      "375/375 [==============================] - 1s 3ms/step - loss: 0.0647 - accuracy: 0.9805 - val_loss: 0.0974 - val_accuracy: 0.9686\n",
      "Epoch 6/10\n",
      "375/375 [==============================] - 1s 3ms/step - loss: 0.0505 - accuracy: 0.9849 - val_loss: 0.0994 - val_accuracy: 0.9700\n",
      "Epoch 7/10\n",
      "375/375 [==============================] - 1s 3ms/step - loss: 0.0428 - accuracy: 0.9876 - val_loss: 0.0933 - val_accuracy: 0.9730\n",
      "Epoch 8/10\n",
      "375/375 [==============================] - 1s 3ms/step - loss: 0.0349 - accuracy: 0.9892 - val_loss: 0.0908 - val_accuracy: 0.9742\n",
      "Epoch 9/10\n",
      "375/375 [==============================] - 1s 3ms/step - loss: 0.0260 - accuracy: 0.9927 - val_loss: 0.0981 - val_accuracy: 0.9727\n",
      "Epoch 10/10\n",
      "375/375 [==============================] - 1s 3ms/step - loss: 0.0220 - accuracy: 0.9940 - val_loss: 0.1014 - val_accuracy: 0.9737\n"
     ]
    }
   ],
   "source": [
    "history = model.fit(x_train_flatten, y_train_one_hot, epochs=10, batch_size=128, validation_split=0.2)\n"
   ]
  },
  {
   "cell_type": "code",
   "execution_count": 87,
   "metadata": {},
   "outputs": [
    {
     "name": "stdout",
     "output_type": "stream",
     "text": [
      "313/313 [==============================] - 3s 9ms/step - loss: 0.0892 - accuracy: 0.9760\n",
      "test accuracy: 0.9760\n"
     ]
    }
   ],
   "source": [
    "test_loss, test_accuracy = model.evaluate(x_test_flatten, y_test_one_hot)\n",
    "print(f\"test accuracy: {test_accuracy:.4f}\")"
   ]
  },
  {
   "cell_type": "code",
   "execution_count": 90,
   "metadata": {},
   "outputs": [],
   "source": [
    "model.save(\"mnist-trained-model.h5\")"
   ]
  },
  {
   "cell_type": "code",
   "execution_count": null,
   "metadata": {},
   "outputs": [],
   "source": []
  }
 ],
 "metadata": {
  "kernelspec": {
   "display_name": ".venv",
   "language": "python",
   "name": "python3"
  },
  "language_info": {
   "codemirror_mode": {
    "name": "ipython",
    "version": 3
   },
   "file_extension": ".py",
   "mimetype": "text/x-python",
   "name": "python",
   "nbconvert_exporter": "python",
   "pygments_lexer": "ipython3",
   "version": "3.10.11"
  }
 },
 "nbformat": 4,
 "nbformat_minor": 2
}
